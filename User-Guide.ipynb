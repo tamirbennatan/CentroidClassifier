{
 "cells": [
  {
   "cell_type": "code",
   "execution_count": 1,
   "metadata": {
    "collapsed": false
   },
   "outputs": [],
   "source": [
    "import matplotlib.pyplot as plt\n",
    "%matplotlib inline\n",
    "\n",
    "import pandas as pd\n",
    "import numpy as np\n",
    "\n",
    "from sklearn.model_selection import train_test_split\n",
    "from sklearn.metrics import classification_report\n",
    "\n",
    "from centroid_classifier import CentroidClassifier\n"
   ]
  },
  {
   "cell_type": "markdown",
   "metadata": {},
   "source": [
    "# Centroid Classifier\n",
    "\n",
    "The `CentroidClassifier` class is an implementation of the [Nearest Centroid Classification Algorithm](https://en.wikipedia.org/wiki/Nearest_centroid_classifier). This classical algorithm [is implemented in Scikit-Learn in the `sklearn.neighbors.NearestCentroid` module](http://scikit-learn.org/stable/modules/generated/sklearn.neighbors.NearestCentroid.html), though this module provides several generalizations to this algorithm. \n",
    "\n",
    "The interface to this classifier is consistent with `Sklearn` classifiers - so that one can use the many great utilities implemented in `Sklearn` to peform tasks such as hyperparameter tuning and cross validation. \n",
    "\n",
    "This document covers how to use the `CentroidClassifier`, and covers a case study using the `ionosphere` dataset, from the UCI machine learning repository. \n",
    "\n",
    "---"
   ]
  },
  {
   "cell_type": "markdown",
   "metadata": {},
   "source": [
    "## Contents\n",
    "\n",
    "### 1. Nearest Centroid Algorithm\n",
    "- 1.1 Classical algorithm\n",
    "- 1.2 Drawbacks of Nearest Centroid classification\n",
    "\n",
    "### 2. Extensions to classical algorithm\n",
    "- 2.1 Mahalanobis and skew distances\n",
    "- 2.2 Reframing one classification problem as another\n",
    "\n",
    "### 3. Case study - Ionosphere dataset\n",
    "- 3.1 `iononsphere` dataset\n",
    "- 3.2 Functionality of `CentroidClassifier` class\n",
    "- 3.3 Hyperparameter tuning\n",
    "\n",
    "### 4. Model comparisons\n",
    "- 4.1 Training Logistic Regression, SVM, and KNN models\n",
    "- 4.2 Model performance\n",
    "\n",
    "### 5. Conclusion\n",
    "\n",
    "---"
   ]
  },
  {
   "cell_type": "markdown",
   "metadata": {},
   "source": [
    "## 1. Nearest Centroid Algorithm\n",
    "\n",
    "#### 1.1 Classical algorithm\n",
    "\n",
    "The Nearest Centroid algorithm is a simple supervised learning algorithm. During training, the mean (centroid) of the training data of each class (label) is calculated. To predict the class of a new vector, the distance between said vector and each of the class centroids is calculated, and vector is assigned to the class whose centroid it is closest.\n",
    "\n",
    "Those familiar with the `K-Means` unsupervised clustering algorithm may recognize that the prediction step is identical to the label updating step in the `K-Means` algorithm. \n"
   ]
  },
  {
   "cell_type": "markdown",
   "metadata": {},
   "source": [
    "#### 1.2 Drawbacks of Nearest Centroid classification\n",
    "\n",
    "The Nearest Centroid algorithm is a simple and efficient method. It has no hyperparameters - which makes it a practical baseline classifier. \n",
    "\n",
    "The algorithm performs poorly under certain circumstances, however. First - it does not handle non-convex classes well. Secondly, when using Euclidean distance as the distance measure - the algorithm struggles when the classes have  different variances and/or skews, or strong covariances between the features. "
   ]
  },
  {
   "cell_type": "markdown",
   "metadata": {},
   "source": [
    "## 2. Extensions to classical algorithm\n",
    "\n",
    "#### 2.1 Mahalanobis and Skew distances\n",
    "\n",
    "When using Euclidean distance to a class centroid, the covariance in the data is ignored. Therefore, in the image below, points **1** and **2** are considered to be the same distance away from the origin.  \n",
    "\n",
    "![](examples/images/euc_contour.png)\n",
    "\n",
    "However, in light of the rest of the data, it's clear that point **1** deviates from the origin more extremely than **2**, since point **2** falls in the cloud of the rest of the data. Ingoring the covariance in the data leads us to ignore this fact. \n",
    "\n",
    "Mahalanobis distance addresses this issue. According to Wikipedia, the Mahalanobis distance \"is a multi-dimensional generalization of the idea of measuring how many standard deviations away [a point] is from the mean [of a set of vectors].\" One can also think of the Mahalanobis distance as a metric that first transforms the data to remove covariance, then then calculates the Euclidean distance. \n",
    "\n",
    "A countour plot of the Mahalanobis distance better reflects the general shape of the data, and captures the intuition of measuring how \"unusually far\" a point is from the mean more naturally. \n",
    "\n",
    "![](examples/images/mah_contour.png)\n",
    "*Images courtesy of [Vincent Zoonekynd](http://zoonek2.free.fr/UNIX/48_R/06.html)*\n",
    "\n",
    "\n",
    "In this module, we extend Scikit-Learn's implementation of the Nearest Centroid algorithm by impementing the Mahalanobis distance for classification. We also implemented a novel distance metric - _skew distance_ - which takes into account the skew in the principle components of a datset - as proposed by [Dr. Mark DeBonis](https://manhattan.edu/campus-directory/mark.debonis) in his paper [_\"Using Skew for Classification\"_](https://www.google.com/search?q=using+skew+for+classification&oq=using+skew+for+classification&aqs=chrome..69i57j69i60j69i61l2j35i39.3895j0j7&sourceid=chrome&ie=UTF-8)\n"
   ]
  },
  {
   "cell_type": "markdown",
   "metadata": {},
   "source": [
    "#### 2.2 Reframing one classification problem as another\n",
    "\n",
    "In the classical Nearest Centroid algorithm, the predicted class of a vector is the class whose centroid is closest to that vector.\n",
    "\n",
    "We generalize this decision criterion by reframing the original classification task as a seperate auxuilliary classification task. For a data matrix **X** of shape (n, m), and a response vector **y** with `k` unique classes, the classification task is transformed as follows:\n",
    "\n",
    "1. For each class _c_, compute the centroid of $X_c$, where $X_c \\equiv \\{X_i  \\text{ : }\\quad y_i = c\\}$\n",
    "2. For each training example $x \\in I\\!R^{m}$, construct a vector in $I\\!R^k$, $x'$, where the $j^{th}$ component of $x'$ is the distance between $x$ and the $j^{th}$ cluster centroid. Call the collection of these constructed vectors **X'**.  \n",
    "3. Now we have a design matrix **X'**, of dimension (n, k), and the same vector of labels, **y**. These matrices define the new classification task. \n",
    "\n",
    "This setup is a generalization of the classic decision criterion, and allows for the use of arbirary classification methods to be used to solve the constructed classification task (e.g. SVM, Logistic Regression, KNN, etc).\n",
    "\n",
    "This design choice was to help make this classifier generalizable to a wide variety of datasets, and allow it to learn more complex decision boundaries. \n",
    "\n",
    "---"
   ]
  },
  {
   "cell_type": "markdown",
   "metadata": {},
   "source": [
    "## 3. Case study - Ionosphere dataset\n",
    "\n",
    "To introduce the interface to the `CentroidClassifier` class and provide a point of reference to its performance, I will apply it to the `ionosphere` dataset from the UCL Machine Learning repository.\n"
   ]
  },
  {
   "cell_type": "markdown",
   "metadata": {},
   "source": [
    "#### 3.1 `iononsphere` dataset\n",
    "\n",
    "The `iononsphere` dataset consists of radar measurements from 16 antenae, and labels that indicate if the measurement is suitable for further analysis not. There are 351 instances and 34 features in the data. "
   ]
  },
  {
   "cell_type": "code",
   "execution_count": 2,
   "metadata": {
    "collapsed": false
   },
   "outputs": [
    {
     "data": {
      "text/html": [
       "<div>\n",
       "<table border=\"1\" class=\"dataframe\">\n",
       "  <thead>\n",
       "    <tr style=\"text-align: right;\">\n",
       "      <th></th>\n",
       "      <th>a01</th>\n",
       "      <th>a02</th>\n",
       "      <th>a03</th>\n",
       "      <th>a04</th>\n",
       "      <th>a05</th>\n",
       "      <th>a06</th>\n",
       "      <th>a07</th>\n",
       "      <th>a08</th>\n",
       "      <th>a09</th>\n",
       "      <th>a10</th>\n",
       "      <th>...</th>\n",
       "      <th>a26</th>\n",
       "      <th>a27</th>\n",
       "      <th>a28</th>\n",
       "      <th>a29</th>\n",
       "      <th>a30</th>\n",
       "      <th>a31</th>\n",
       "      <th>a32</th>\n",
       "      <th>a33</th>\n",
       "      <th>a34</th>\n",
       "      <th>class</th>\n",
       "    </tr>\n",
       "  </thead>\n",
       "  <tbody>\n",
       "    <tr>\n",
       "      <th>0</th>\n",
       "      <td>1</td>\n",
       "      <td>0</td>\n",
       "      <td>0.99539</td>\n",
       "      <td>-0.05889</td>\n",
       "      <td>0.85243</td>\n",
       "      <td>0.02306</td>\n",
       "      <td>0.83398</td>\n",
       "      <td>-0.37708</td>\n",
       "      <td>1.00000</td>\n",
       "      <td>0.03760</td>\n",
       "      <td>...</td>\n",
       "      <td>-0.51171</td>\n",
       "      <td>0.41078</td>\n",
       "      <td>-0.46168</td>\n",
       "      <td>0.21266</td>\n",
       "      <td>-0.34090</td>\n",
       "      <td>0.42267</td>\n",
       "      <td>-0.54487</td>\n",
       "      <td>0.18641</td>\n",
       "      <td>-0.45300</td>\n",
       "      <td>g</td>\n",
       "    </tr>\n",
       "    <tr>\n",
       "      <th>1</th>\n",
       "      <td>1</td>\n",
       "      <td>0</td>\n",
       "      <td>1.00000</td>\n",
       "      <td>-0.18829</td>\n",
       "      <td>0.93035</td>\n",
       "      <td>-0.36156</td>\n",
       "      <td>-0.10868</td>\n",
       "      <td>-0.93597</td>\n",
       "      <td>1.00000</td>\n",
       "      <td>-0.04549</td>\n",
       "      <td>...</td>\n",
       "      <td>-0.26569</td>\n",
       "      <td>-0.20468</td>\n",
       "      <td>-0.18401</td>\n",
       "      <td>-0.19040</td>\n",
       "      <td>-0.11593</td>\n",
       "      <td>-0.16626</td>\n",
       "      <td>-0.06288</td>\n",
       "      <td>-0.13738</td>\n",
       "      <td>-0.02447</td>\n",
       "      <td>b</td>\n",
       "    </tr>\n",
       "    <tr>\n",
       "      <th>2</th>\n",
       "      <td>1</td>\n",
       "      <td>0</td>\n",
       "      <td>1.00000</td>\n",
       "      <td>-0.03365</td>\n",
       "      <td>1.00000</td>\n",
       "      <td>0.00485</td>\n",
       "      <td>1.00000</td>\n",
       "      <td>-0.12062</td>\n",
       "      <td>0.88965</td>\n",
       "      <td>0.01198</td>\n",
       "      <td>...</td>\n",
       "      <td>-0.40220</td>\n",
       "      <td>0.58984</td>\n",
       "      <td>-0.22145</td>\n",
       "      <td>0.43100</td>\n",
       "      <td>-0.17365</td>\n",
       "      <td>0.60436</td>\n",
       "      <td>-0.24180</td>\n",
       "      <td>0.56045</td>\n",
       "      <td>-0.38238</td>\n",
       "      <td>g</td>\n",
       "    </tr>\n",
       "    <tr>\n",
       "      <th>3</th>\n",
       "      <td>1</td>\n",
       "      <td>0</td>\n",
       "      <td>1.00000</td>\n",
       "      <td>-0.45161</td>\n",
       "      <td>1.00000</td>\n",
       "      <td>1.00000</td>\n",
       "      <td>0.71216</td>\n",
       "      <td>-1.00000</td>\n",
       "      <td>0.00000</td>\n",
       "      <td>0.00000</td>\n",
       "      <td>...</td>\n",
       "      <td>0.90695</td>\n",
       "      <td>0.51613</td>\n",
       "      <td>1.00000</td>\n",
       "      <td>1.00000</td>\n",
       "      <td>-0.20099</td>\n",
       "      <td>0.25682</td>\n",
       "      <td>1.00000</td>\n",
       "      <td>-0.32382</td>\n",
       "      <td>1.00000</td>\n",
       "      <td>b</td>\n",
       "    </tr>\n",
       "    <tr>\n",
       "      <th>4</th>\n",
       "      <td>1</td>\n",
       "      <td>0</td>\n",
       "      <td>1.00000</td>\n",
       "      <td>-0.02401</td>\n",
       "      <td>0.94140</td>\n",
       "      <td>0.06531</td>\n",
       "      <td>0.92106</td>\n",
       "      <td>-0.23255</td>\n",
       "      <td>0.77152</td>\n",
       "      <td>-0.16399</td>\n",
       "      <td>...</td>\n",
       "      <td>-0.65158</td>\n",
       "      <td>0.13290</td>\n",
       "      <td>-0.53206</td>\n",
       "      <td>0.02431</td>\n",
       "      <td>-0.62197</td>\n",
       "      <td>-0.05707</td>\n",
       "      <td>-0.59573</td>\n",
       "      <td>-0.04608</td>\n",
       "      <td>-0.65697</td>\n",
       "      <td>g</td>\n",
       "    </tr>\n",
       "  </tbody>\n",
       "</table>\n",
       "<p>5 rows × 35 columns</p>\n",
       "</div>"
      ],
      "text/plain": [
       "   a01  a02      a03      a04      a05      a06      a07      a08      a09  \\\n",
       "0    1    0  0.99539 -0.05889  0.85243  0.02306  0.83398 -0.37708  1.00000   \n",
       "1    1    0  1.00000 -0.18829  0.93035 -0.36156 -0.10868 -0.93597  1.00000   \n",
       "2    1    0  1.00000 -0.03365  1.00000  0.00485  1.00000 -0.12062  0.88965   \n",
       "3    1    0  1.00000 -0.45161  1.00000  1.00000  0.71216 -1.00000  0.00000   \n",
       "4    1    0  1.00000 -0.02401  0.94140  0.06531  0.92106 -0.23255  0.77152   \n",
       "\n",
       "       a10  ...        a26      a27      a28      a29      a30      a31  \\\n",
       "0  0.03760  ...   -0.51171  0.41078 -0.46168  0.21266 -0.34090  0.42267   \n",
       "1 -0.04549  ...   -0.26569 -0.20468 -0.18401 -0.19040 -0.11593 -0.16626   \n",
       "2  0.01198  ...   -0.40220  0.58984 -0.22145  0.43100 -0.17365  0.60436   \n",
       "3  0.00000  ...    0.90695  0.51613  1.00000  1.00000 -0.20099  0.25682   \n",
       "4 -0.16399  ...   -0.65158  0.13290 -0.53206  0.02431 -0.62197 -0.05707   \n",
       "\n",
       "       a32      a33      a34  class  \n",
       "0 -0.54487  0.18641 -0.45300      g  \n",
       "1 -0.06288 -0.13738 -0.02447      b  \n",
       "2 -0.24180  0.56045 -0.38238      g  \n",
       "3  1.00000 -0.32382  1.00000      b  \n",
       "4 -0.59573 -0.04608 -0.65697      g  \n",
       "\n",
       "[5 rows x 35 columns]"
      ]
     },
     "execution_count": 2,
     "metadata": {},
     "output_type": "execute_result"
    }
   ],
   "source": [
    "ion = pd.read_csv(\"examples/datasets/ionosphere.csv\")\n",
    "ion.head()"
   ]
  },
  {
   "cell_type": "markdown",
   "metadata": {},
   "source": [
    "A natural classification task is to predict if a measurement is good or bad. \n",
    "\n",
    "Here I split up the data into training and test splits, for experimentation. "
   ]
  },
  {
   "cell_type": "code",
   "execution_count": 3,
   "metadata": {
    "collapsed": false
   },
   "outputs": [],
   "source": [
    "# isolate design matrix and response vector\n",
    "X = ion.iloc[:,:-1]\n",
    "y = ion.iloc[:,-1]\n",
    "\n",
    "# Make training and test splits for experimentation\n",
    "X_train, X_test, y_train, y_test = train_test_split(X, y, test_size=0.2, random_state=1)"
   ]
  },
  {
   "cell_type": "code",
   "execution_count": 4,
   "metadata": {
    "collapsed": false
   },
   "outputs": [
    {
     "name": "stdout",
     "output_type": "stream",
     "text": [
      "(351, 34) (351,)\n",
      "(280, 34) (280,)\n",
      "(71, 34) (71,)\n"
     ]
    }
   ],
   "source": [
    "# sanity check - do dimensions make sense? \n",
    "print X.shape, y.shape\n",
    "print X_train.shape, y_train.shape\n",
    "print X_test.shape, y_test.shape"
   ]
  },
  {
   "cell_type": "markdown",
   "metadata": {},
   "source": [
    "#### 3.2 Functionality of `CentroidClassifier` class\n",
    "\n",
    "The constructor of the `CentroidClassifier` takes to optional parameters:\n",
    "\n",
    "- `distance`\n",
    "- `classifier`\n",
    "\n",
    "The `distance` parameter specifies the distance metric used to compute the distance between a vector and a cluster centroid. The options are:\n",
    "\n",
    "- `mahalanobis`\n",
    "- `skew`\n",
    "- `euclidean`\n",
    "- `chebyshev`\n",
    "- `manhattan`\n",
    "\n",
    "The default value is `mahalanobis`. \n",
    "\n",
    "The `classifier` parameter accepts any `Sklearn` classifier object."
   ]
  },
  {
   "cell_type": "code",
   "execution_count": 33,
   "metadata": {
    "collapsed": true
   },
   "outputs": [],
   "source": [
    "# Initialize a nearest-centroid classifier\n",
    "clf = CentroidClassifier()"
   ]
  },
  {
   "cell_type": "markdown",
   "metadata": {},
   "source": [
    "The `CentroidClassifier` adopts the same interface as any `sklearn` classifier. As such, it has `fit()` and `predict()` static methods. "
   ]
  },
  {
   "cell_type": "code",
   "execution_count": 34,
   "metadata": {
    "collapsed": false
   },
   "outputs": [
    {
     "data": {
      "text/plain": [
       "CentroidClassifier(classifier=None, distance=None)"
      ]
     },
     "execution_count": 34,
     "metadata": {},
     "output_type": "execute_result"
    }
   ],
   "source": [
    "# Fit the classifier on the training data\n",
    "clf.fit(X_train, y_train)"
   ]
  },
  {
   "cell_type": "markdown",
   "metadata": {},
   "source": [
    "For binary classification tasks, one can also plot the decision boundary fit using the `plot_boundary()` static method:\n"
   ]
  },
  {
   "cell_type": "code",
   "execution_count": 35,
   "metadata": {
    "collapsed": false
   },
   "outputs": [
    {
     "data": {
      "image/png": "[encoded data removed]",
      "text/plain": [
       "<matplotlib.figure.Figure at 0x10c8c6710>"
      ]
     },
     "metadata": {},
     "output_type": "display_data"
    }
   ],
   "source": [
    "clf.plot_boundary(X_train, y_train)"
   ]
  },
  {
   "cell_type": "markdown",
   "metadata": {},
   "source": [
    "Comparing this decision boundary to the one learned when using Euclidean distance:"
   ]
  },
  {
   "cell_type": "code",
   "execution_count": 8,
   "metadata": {
    "collapsed": false
   },
   "outputs": [
    {
     "data": {
      "image/png": "[encoded data removed]",
      "text/plain": [
       "<matplotlib.figure.Figure at 0x10c80a590>"
      ]
     },
     "metadata": {},
     "output_type": "display_data"
    }
   ],
   "source": [
    "# A classifier that uses Euclidean distance instead of Mahalanobis:\n",
    "clf_euc = CentroidClassifier(distance=\"euclidean\")\n",
    "\n",
    "# Fit the model\n",
    "clf_euc.fit(X_train, y_train)\n",
    "\n",
    "# plot decision boundary\n",
    "clf_euc.plot_boundary(X_train, y_train)"
   ]
  },
  {
   "cell_type": "markdown",
   "metadata": {},
   "source": [
    "We can see that the classifier - when trained using Mahalanobis distance - is more capable of distinguishing between examples of each classes than a classifier trained using Euclidean distance, as it scales out the covariance within each class. \n",
    "\n",
    "Since the `CentroidClassifier` has the same interface as all `sklearn` classifiers, we can use the static `score()` method - which is present in all `sklearn` classifiers - to make this difference in performance more concrete:"
   ]
  },
  {
   "cell_type": "code",
   "execution_count": 9,
   "metadata": {
    "collapsed": false
   },
   "outputs": [
    {
     "name": "stdout",
     "output_type": "stream",
     "text": [
      "Training accuracy using Mahalanobis distance: 0.917857\n",
      "Training accuracy using Euclidean distance : 0.778571\n"
     ]
    }
   ],
   "source": [
    "print \"Training accuracy using Mahalanobis distance: %f\" % clf.score(X_train, y_train)\n",
    "print \"Training accuracy using Euclidean distance : %f\" % clf_euc.score(X_train, y_train)"
   ]
  },
  {
   "cell_type": "markdown",
   "metadata": {},
   "source": [
    "---\n",
    "\n",
    "Note that in the plots of the decision boundaries above, we can see that the decision boundary is a straight line in the plane.\n",
    "\n",
    "Recall that as part of the classification prodcedure, `CentroidClassifier` reduces the original classification task to one in `k` dimensions, where `k` is the number of classes. By defualt, it solves this clssification task using an LDA decomposition, which is why the decision boundary is a line (hyperplane in k dimensions). \n",
    "\n",
    "We are not restricted to these simple decision boundaries, however. By passing and `sklearn` classifier object to the constructor of `CentroidClassifier`, we can specify any classifier we'd like to perform the final classification stage. \n",
    "\n",
    "For example: instead of using LDA for classification, I can use a Logistic Regression classifier:"
   ]
  },
  {
   "cell_type": "code",
   "execution_count": 10,
   "metadata": {
    "collapsed": false
   },
   "outputs": [
    {
     "data": {
      "image/png": "[encoded data removed]",
      "text/plain": [
       "<matplotlib.figure.Figure at 0x10c801610>"
      ]
     },
     "metadata": {},
     "output_type": "display_data"
    }
   ],
   "source": [
    "from sklearn.linear_model import LogisticRegression\n",
    "\n",
    "# initialize a centoid classifier that uses mahalanobis distance, and\n",
    "# performs logistic regression to carry out the final classification stage.  \n",
    "clf_logreg = CentroidClassifier(distance=\"mahalanobis\", classifier=LogisticRegression(random_state = 1))\n",
    "\n",
    "# fit classifier\n",
    "clf_logreg.fit(X_train, y_train)\n",
    "\n",
    "# plot decision boundary\n",
    "clf_logreg.plot_boundary(X_train, y_train)"
   ]
  },
  {
   "cell_type": "markdown",
   "metadata": {},
   "source": [
    "As expected, the classifier is able to learn more complex functions, and explain more of the variability in the training data:"
   ]
  },
  {
   "cell_type": "code",
   "execution_count": 11,
   "metadata": {
    "collapsed": false
   },
   "outputs": [
    {
     "name": "stdout",
     "output_type": "stream",
     "text": [
      "Training accuracy using Logistic Regression classifier : 0.975000\n"
     ]
    }
   ],
   "source": [
    "print \"Training accuracy using Logistic Regression classifier : %f\" % clf_logreg.score(X_train, y_train)"
   ]
  },
  {
   "cell_type": "markdown",
   "metadata": {},
   "source": [
    "#### 3.3 Hyperparameter tuning"
   ]
  },
  {
   "cell_type": "markdown",
   "metadata": {},
   "source": [
    "As always - using more flexible classifiers increases the risk of overfitting our training set. \n",
    "\n",
    "Luckily, we can utilize the robust model selection toolit available in `Scikit-Learn` to tune our parameters and perform cross validation. Specifically, I will use the `GridSearchCV` object to search through hyperparameter combinations, and perform 10-fold cross validation to select the hypereparameters that maximize our cross-validation accuracy:"
   ]
  },
  {
   "cell_type": "code",
   "execution_count": 12,
   "metadata": {
    "collapsed": true
   },
   "outputs": [],
   "source": [
    "from sklearn.model_selection import GridSearchCV"
   ]
  },
  {
   "cell_type": "code",
   "execution_count": 13,
   "metadata": {
    "collapsed": false
   },
   "outputs": [],
   "source": [
    "# create a hyperparameter grid to search through\n",
    "logreg_grid = {\"classifier\" : [LogisticRegression(random_state = 1)],\n",
    "               \"C\": [.01, .1, .5, 1, 1.5, 3], \n",
    "              \"tol\": [1e-5, 1e-4, 1e-3], \n",
    "              \"penalty\": ['l1', 'l2']}\n",
    "\n",
    "# initialize a new CentroidClassifier to search through\n",
    "clf_gs = CentroidClassifier(distance=\"mahalanobis\")\n",
    "\n",
    "# Initialize a gridsearch CV object, and set up to perform 10-fold CV\n",
    "gs = GridSearchCV(clf_gs, param_grid = logreg_grid, cv = 10, verbose = 1)\n"
   ]
  },
  {
   "cell_type": "code",
   "execution_count": 14,
   "metadata": {
    "collapsed": false,
    "scrolled": false
   },
   "outputs": [
    {
     "name": "stdout",
     "output_type": "stream",
     "text": [
      "Fitting 10 folds for each of 36 candidates, totalling 360 fits\n"
     ]
    },
    {
     "name": "stderr",
     "output_type": "stream",
     "text": [
      "[Parallel(n_jobs=1)]: Done 360 out of 360 | elapsed:   10.3s finished\n"
     ]
    },
    {
     "data": {
      "text/plain": [
       "GridSearchCV(cv=10, error_score='raise',\n",
       "       estimator=CentroidClassifier(classifier=None, distance=None),\n",
       "       fit_params=None, iid=True, n_jobs=1,\n",
       "       param_grid={'penalty': ['l1', 'l2'], 'C': [0.01, 0.1, 0.5, 1, 1.5, 3], 'classifier': [LogisticRegression(C=1.0, class_weight=None, dual=False, fit_intercept=True,\n",
       "          intercept_scaling=1, max_iter=100, multi_class='ovr', n_jobs=1,\n",
       "          penalty='l2', random_state=1, solver='liblinear', tol=0.0001,\n",
       "          verbose=0, warm_start=False)], 'tol': [1e-05, 0.0001, 0.001]},\n",
       "       pre_dispatch='2*n_jobs', refit=True, return_train_score=True,\n",
       "       scoring=None, verbose=1)"
      ]
     },
     "execution_count": 14,
     "metadata": {},
     "output_type": "execute_result"
    }
   ],
   "source": [
    "# run grid search\n",
    "gs.fit(X_train, y_train)"
   ]
  },
  {
   "cell_type": "code",
   "execution_count": 15,
   "metadata": {
    "collapsed": false
   },
   "outputs": [
    {
     "data": {
      "text/plain": [
       "{'C': 0.01,\n",
       " 'classifier': LogisticRegression(C=1.0, class_weight=None, dual=False, fit_intercept=True,\n",
       "           intercept_scaling=1, max_iter=100, multi_class='ovr', n_jobs=1,\n",
       "           penalty='l2', random_state=1, solver='liblinear', tol=0.0001,\n",
       "           verbose=0, warm_start=False),\n",
       " 'penalty': 'l1',\n",
       " 'tol': 1e-05}"
      ]
     },
     "execution_count": 15,
     "metadata": {},
     "output_type": "execute_result"
    }
   ],
   "source": [
    "gs.best_params_"
   ]
  },
  {
   "cell_type": "code",
   "execution_count": 16,
   "metadata": {
    "collapsed": false
   },
   "outputs": [],
   "source": [
    "clf_gs = CentroidClassifier(distance = \"mahalanobis\", \n",
    "                   classifier = LogisticRegression(C = .01, penalty = \"l1\", tol = 1e-5, random_state = 1))"
   ]
  },
  {
   "cell_type": "code",
   "execution_count": 17,
   "metadata": {
    "collapsed": false
   },
   "outputs": [
    {
     "data": {
      "text/plain": [
       "CentroidClassifier(classifier=None, distance=None)"
      ]
     },
     "execution_count": 17,
     "metadata": {},
     "output_type": "execute_result"
    }
   ],
   "source": [
    "clf_gs.fit(X_train, y_train)"
   ]
  },
  {
   "cell_type": "code",
   "execution_count": 18,
   "metadata": {
    "collapsed": false
   },
   "outputs": [
    {
     "data": {
      "image/png": "[encoded data removed]",
      "text/plain": [
       "<matplotlib.figure.Figure at 0x10c24d790>"
      ]
     },
     "metadata": {},
     "output_type": "display_data"
    }
   ],
   "source": [
    "clf_gs.plot_boundary(X_train, y_train)"
   ]
  },
  {
   "cell_type": "markdown",
   "metadata": {},
   "source": [
    "---\n",
    "\n",
    "## 4. Model comparisons\n",
    "\n",
    "Now that we have a tuned and trained Nearest Centroid classifier, we can guage the efficacy of this model by comparing it to more classical methods. \n",
    "\n",
    "Here, I'll train Logistic Regression, Support Vector Machine  and KNN classifiers, and tune their respective hyperparameters using a `GridSearchCV`. Then, I'll compare each model's test set prediction accuracy. \n",
    "\n",
    "#### 4.1 Training Logistic Regression, SVM, and KNN models\n"
   ]
  },
  {
   "cell_type": "code",
   "execution_count": 19,
   "metadata": {
    "collapsed": true
   },
   "outputs": [],
   "source": [
    "from sklearn.svm import SVC\n",
    "from sklearn.neighbors import KNeighborsClassifier"
   ]
  },
  {
   "cell_type": "markdown",
   "metadata": {},
   "source": [
    "First, training a Logistic regression classifier:"
   ]
  },
  {
   "cell_type": "code",
   "execution_count": 20,
   "metadata": {
    "collapsed": false
   },
   "outputs": [
    {
     "name": "stdout",
     "output_type": "stream",
     "text": [
      "Fitting 10 folds for each of 36 candidates, totalling 360 fits\n"
     ]
    },
    {
     "name": "stderr",
     "output_type": "stream",
     "text": [
      "[Parallel(n_jobs=1)]: Done 360 out of 360 | elapsed:    3.5s finished\n"
     ]
    },
    {
     "data": {
      "text/plain": [
       "GridSearchCV(cv=10, error_score='raise',\n",
       "       estimator=LogisticRegression(C=1.0, class_weight=None, dual=False, fit_intercept=True,\n",
       "          intercept_scaling=1, max_iter=100, multi_class='ovr', n_jobs=1,\n",
       "          penalty='l2', random_state=1, solver='liblinear', tol=0.0001,\n",
       "          verbose=0, warm_start=False),\n",
       "       fit_params=None, iid=True, n_jobs=1,\n",
       "       param_grid={'penalty': ['l1', 'l2'], 'C': [0.01, 0.1, 0.5, 1, 1.5, 3], 'tol': [1e-05, 0.0001, 0.001]},\n",
       "       pre_dispatch='2*n_jobs', refit=True, return_train_score=True,\n",
       "       scoring=None, verbose=1)"
      ]
     },
     "execution_count": 20,
     "metadata": {},
     "output_type": "execute_result"
    }
   ],
   "source": [
    "# a logistic regression classifier\n",
    "logreg = LogisticRegression(random_state=1)\n",
    "\n",
    "# parameter grid to search through\n",
    "logreg_grid = {\"C\": [.01, .1, .5, 1, 1.5, 3], \n",
    "              \"tol\": [1e-5, 1e-4, 1e-3], \n",
    "              \"penalty\": ['l1', 'l2']}\n",
    "\n",
    "# initialize a gridsearch object to search through Logistic regression hyperparameter combinations\n",
    "gs_logreg = GridSearchCV(estimator = logreg, param_grid = logreg_grid, cv = 10, verbose = 1)\n",
    "\n",
    "# Run grid search\n",
    "gs_logreg.fit(X_train, y_train)"
   ]
  },
  {
   "cell_type": "code",
   "execution_count": 21,
   "metadata": {
    "collapsed": true
   },
   "outputs": [],
   "source": [
    "# isolate the best logistic regression estimator\n",
    "best_logreg = gs_logreg.best_estimator_"
   ]
  },
  {
   "cell_type": "markdown",
   "metadata": {},
   "source": [
    "Second, training a Support Vector Machine:"
   ]
  },
  {
   "cell_type": "code",
   "execution_count": 22,
   "metadata": {
    "collapsed": false
   },
   "outputs": [
    {
     "name": "stdout",
     "output_type": "stream",
     "text": [
      "Fitting 10 folds for each of 48 candidates, totalling 480 fits\n"
     ]
    },
    {
     "name": "stderr",
     "output_type": "stream",
     "text": [
      "[Parallel(n_jobs=1)]: Done 480 out of 480 | elapsed:    4.6s finished\n"
     ]
    },
    {
     "data": {
      "text/plain": [
       "GridSearchCV(cv=10, error_score='raise',\n",
       "       estimator=SVC(C=1.0, cache_size=200, class_weight=None, coef0=0.0,\n",
       "  decision_function_shape='ovr', degree=3, gamma='auto', kernel='rbf',\n",
       "  max_iter=-1, probability=False, random_state=1, shrinking=True,\n",
       "  tol=0.001, verbose=False),\n",
       "       fit_params=None, iid=True, n_jobs=1,\n",
       "       param_grid={'kernel': ['rbf', 'linear', 'sigmoid', 'poly'], 'C': [0.01, 0.1, 0.5, 1, 1.5, 3], 'shrinking': [True, False]},\n",
       "       pre_dispatch='2*n_jobs', refit=True, return_train_score=True,\n",
       "       scoring=None, verbose=1)"
      ]
     },
     "execution_count": 22,
     "metadata": {},
     "output_type": "execute_result"
    }
   ],
   "source": [
    "# a support vector machine classifier\n",
    "svm = SVC(random_state=1)\n",
    "\n",
    "# parameter grid to search through\n",
    "svm_grid = {\"C\" : [.01, .1, .5, 1, 1.5, 3],\n",
    "            \"kernel\" : [\"rbf\", \"linear\", \"sigmoid\", \"poly\"],\n",
    "           \"shrinking\" : [True, False]}\n",
    "\n",
    "# initialize a gridsearch object to search through Logistic regression hyperparameter combinations\n",
    "gs_svm = GridSearchCV(estimator = svm, param_grid = svm_grid, cv = 10, verbose = 1)\n",
    "\n",
    "# Run grid search\n",
    "gs_svm.fit(X_train, y_train)"
   ]
  },
  {
   "cell_type": "code",
   "execution_count": 23,
   "metadata": {
    "collapsed": true
   },
   "outputs": [],
   "source": [
    "# isolate the best svm regression estimator\n",
    "best_svm = gs_svm.best_estimator_"
   ]
  },
  {
   "cell_type": "markdown",
   "metadata": {},
   "source": [
    "Finally, training a KNN classifier:"
   ]
  },
  {
   "cell_type": "code",
   "execution_count": 24,
   "metadata": {
    "collapsed": false
   },
   "outputs": [
    {
     "name": "stdout",
     "output_type": "stream",
     "text": [
      "Fitting 10 folds for each of 40 candidates, totalling 400 fits\n"
     ]
    },
    {
     "name": "stderr",
     "output_type": "stream",
     "text": [
      "[Parallel(n_jobs=1)]: Done 400 out of 400 | elapsed:    4.4s finished\n"
     ]
    },
    {
     "data": {
      "text/plain": [
       "GridSearchCV(cv=10, error_score='raise',\n",
       "       estimator=KNeighborsClassifier(algorithm='auto', leaf_size=30, metric='minkowski',\n",
       "           metric_params=None, n_jobs=1, n_neighbors=5, p=2,\n",
       "           weights='uniform'),\n",
       "       fit_params=None, iid=True, n_jobs=1,\n",
       "       param_grid={'n_neighbors': [3, 6, 9, 12, 15, 18, 21, 24, 27, 30], 'weights': ['uniform', 'distance'], 'p': [1, 2]},\n",
       "       pre_dispatch='2*n_jobs', refit=True, return_train_score=True,\n",
       "       scoring=None, verbose=1)"
      ]
     },
     "execution_count": 24,
     "metadata": {},
     "output_type": "execute_result"
    }
   ],
   "source": [
    "# a k-nearest neighbors classifier\n",
    "knn = KNeighborsClassifier()\n",
    "\n",
    "# parameter grid to search through\n",
    "knn_grid = {\"n_neighbors\" : range(3, 33, 3),\n",
    "            \"weights\" : [\"uniform\", \"distance\"],\n",
    "            \"p\" : [1,2]}\n",
    "    \n",
    "\n",
    "# initialize a gridsearch object to search through Logistic regression hyperparameter combinations\n",
    "gs_knn = GridSearchCV(estimator = knn, param_grid = knn_grid, cv = 10, verbose = 1)\n",
    "\n",
    "# Run grid search\n",
    "gs_knn.fit(X_train, y_train)"
   ]
  },
  {
   "cell_type": "code",
   "execution_count": 25,
   "metadata": {
    "collapsed": true
   },
   "outputs": [],
   "source": [
    "# isolate best model\n",
    "best_knn = gs_knn.best_estimator_"
   ]
  },
  {
   "cell_type": "markdown",
   "metadata": {},
   "source": [
    "---\n",
    "\n",
    "#### 4.2 Model performance\n",
    "\n",
    "Now, comparing each classifier's accuracy, precision and recall:"
   ]
  },
  {
   "cell_type": "code",
   "execution_count": 26,
   "metadata": {
    "collapsed": false
   },
   "outputs": [
    {
     "name": "stdout",
     "output_type": "stream",
     "text": [
      "CENTROID CLASSIFIER\n",
      "\n",
      "Test set accuracy: 0.915493\n",
      "\n",
      "             precision    recall  f1-score   support\n",
      "\n",
      "          b       0.87      0.93      0.90        28\n",
      "          g       0.95      0.91      0.93        43\n",
      "\n",
      "avg / total       0.92      0.92      0.92        71\n",
      "\n"
     ]
    }
   ],
   "source": [
    "print \"CENTROID CLASSIFIER\"\n",
    "print\n",
    "print\"Test set accuracy: %f\" % clf_gs.score(X_test, y_test)\n",
    "print\n",
    "print(classification_report(y_pred = clf_gs.predict(X_test), y_true = y_test))"
   ]
  },
  {
   "cell_type": "code",
   "execution_count": 27,
   "metadata": {
    "collapsed": false
   },
   "outputs": [
    {
     "name": "stdout",
     "output_type": "stream",
     "text": [
      "LOGISTIC REGRESSION\n",
      "\n",
      "Test set accuracy: 0.887324\n",
      "\n",
      "             precision    recall  f1-score   support\n",
      "\n",
      "          b       1.00      0.71      0.83        28\n",
      "          g       0.84      1.00      0.91        43\n",
      "\n",
      "avg / total       0.90      0.89      0.88        71\n",
      "\n"
     ]
    }
   ],
   "source": [
    "print \"LOGISTIC REGRESSION\"\n",
    "print\n",
    "print\"Test set accuracy: %f\" % best_logreg.score(X_test, y_test)\n",
    "print\n",
    "print(classification_report(y_pred = best_logreg.predict(X_test), y_true = y_test))"
   ]
  },
  {
   "cell_type": "code",
   "execution_count": 28,
   "metadata": {
    "collapsed": false
   },
   "outputs": [
    {
     "name": "stdout",
     "output_type": "stream",
     "text": [
      "SUPPORT VECTOR MACHINE\n",
      "\n",
      "Test set accuracy: 0.887324\n",
      "\n",
      "             precision    recall  f1-score   support\n",
      "\n",
      "          b       1.00      0.71      0.83        28\n",
      "          g       0.84      1.00      0.91        43\n",
      "\n",
      "avg / total       0.90      0.89      0.88        71\n",
      "\n"
     ]
    }
   ],
   "source": [
    "print \"SUPPORT VECTOR MACHINE\"\n",
    "print\n",
    "print\"Test set accuracy: %f\" % best_svm.score(X_test, y_test)\n",
    "print\n",
    "print(classification_report(y_pred = best_svm.predict(X_test), y_true = y_test))"
   ]
  },
  {
   "cell_type": "code",
   "execution_count": 29,
   "metadata": {
    "collapsed": false
   },
   "outputs": [
    {
     "name": "stdout",
     "output_type": "stream",
     "text": [
      "K-NEAREST NEIGHBORS\n",
      "\n",
      "Test set accuracy: 0.830986\n",
      "\n",
      "             precision    recall  f1-score   support\n",
      "\n",
      "          b       1.00      0.57      0.73        28\n",
      "          g       0.78      1.00      0.88        43\n",
      "\n",
      "avg / total       0.87      0.83      0.82        71\n",
      "\n"
     ]
    }
   ],
   "source": [
    "print \"K-NEAREST NEIGHBORS\"\n",
    "print\n",
    "print\"Test set accuracy: %f\" % best_knn.score(X_test, y_test)\n",
    "print\n",
    "print(classification_report(y_pred = best_knn.predict(X_test), y_true = y_test))"
   ]
  },
  {
   "cell_type": "markdown",
   "metadata": {},
   "source": [
    "---\n",
    "\n",
    "In summary: \n",
    "\n",
    "|                    | Logistic Regression | Support Vector Machine | K-Nearest Neighbors | Centroid Classifier (Mahalanobis + Logistic Regression) |\n",
    "|--------------------|---------------------|------------------------|---------------------|---------------------------------------------------------|\n",
    "| Test Set Accuracy  | 88.7%               | 88.7%                  | 83%                 | *91.5% *                                                  |\n",
    "| Test Set Precision | 90%                 | 90%                    | 87%                 | *92%*                                                     |\n",
    "| Test Set Recall    | 89%                 | 89%                    | 83%                 | *92%*                                                     |\n",
    "| Test Set F1        | 88%                 | 88%                    | 82%                 | *92%*                                                    |"
   ]
  },
  {
   "cell_type": "markdown",
   "metadata": {},
   "source": [
    " "
   ]
  },
  {
   "cell_type": "markdown",
   "metadata": {},
   "source": [
    "---\n",
    "\n",
    "## 5. Conclusion\n",
    "\n",
    "TODO"
   ]
  }
 ],
 "metadata": {
  "kernelspec": {
   "display_name": "Python 2",
   "language": "python",
   "name": "python2"
  },
  "language_info": {
   "codemirror_mode": {
    "name": "ipython",
    "version": 2
   },
   "file_extension": ".py",
   "mimetype": "text/x-python",
   "name": "python",
   "nbconvert_exporter": "python",
   "pygments_lexer": "ipython2",
   "version": "2.7.9"
  }
 },
 "nbformat": 4,
 "nbformat_minor": 2
}
