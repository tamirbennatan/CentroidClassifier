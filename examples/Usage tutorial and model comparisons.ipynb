{
 "cells": [
  {
   "cell_type": "code",
   "execution_count": 11,
   "metadata": {
    "collapsed": false
   },
   "outputs": [],
   "source": [
    "import matplotlib.pyplot as plt\n",
    "%matplotlib inline\n",
    "\n",
    "import pandas as pd\n",
    "import numpy as np\n",
    "\n",
    "from sklearn.model_selection import train_test_split\n",
    "\n",
    "import sys\n",
    "sys.path.append(\"..\")\n",
    "from centroid_classifier import CentroidClassifier\n"
   ]
  },
  {
   "cell_type": "markdown",
   "metadata": {},
   "source": [
    "# Centroid Classifier\n",
    "\n",
    "This module is an implementation of the [Nearest Centroid Classification Algorithm](https://en.wikipedia.org/wiki/Nearest_centroid_classifier). This classical algorithm [is implemented in Scikit-Learn in the `sklearn.neighbors.NearestCentroid` module](http://scikit-learn.org/stable/modules/generated/sklearn.neighbors.NearestCentroid.html). \n",
    "\n",
    "This implementation provides several generalizations to the Nearest Centroid Algorithm, and provides an interface consistent with `Sklearn` classifiers - so that one can use the many great utilities implemented in `Sklearn` to peform tasks such as hyperparameter tuning and cross validation. \n",
    "\n",
    "This document covers how to use the `CentroidClassifier`, and covers a case study using the `ionosphere` dataset, from the UCI machine learning repository. \n",
    "\n",
    "---"
   ]
  },
  {
   "cell_type": "markdown",
   "metadata": {},
   "source": [
    "## Contents\n",
    "\n",
    "### 1. Nearest Centroid Algorithm\n",
    "- 1.1 Classical algorithm\n",
    "- 1.2 Drawbacks of Nearest Centroid classification\n",
    "\n",
    "### 2. Extensions to classical algorithm\n",
    "- 2.1 Mahalanobis and skew distances\n",
    "- 2.2 Reframing one classification problem as another\n",
    "\n",
    "### 3. Case study - Ionosphere dataset\n",
    "- 3.1 `iononsphere` dataset\n",
    "- 3.2 Basic functionality of `CentroidClassifier` class\n",
    "---"
   ]
  },
  {
   "cell_type": "markdown",
   "metadata": {},
   "source": [
    "## 1. Nearest Centroid Algorithm\n",
    "\n",
    "#### 1.1 Classical algorithm\n",
    "\n",
    "The Nearest Centroid algorithm is a simple supervised learning algorithm. During training, the mean (centroid) of the training data for each label (response) is calculated. To predict the class of a new vector, the distance between the vector and each of the class centroids is calculated, and vector is assigned to the class whose centroid it is closes to. \n",
    "\n",
    "Those familiar with the `Kmeans` unsupervised clustering algorithm may recognize that the prediction step is identical to the label updated stip in the `Kmeans` algorithm. \n"
   ]
  },
  {
   "cell_type": "markdown",
   "metadata": {},
   "source": [
    "#### 1.2 Drawbacks of Nearest Centroid classification\n",
    "\n",
    "The Nearest Centroid algorithm is a simple and efficient method. It has no hyperparameters - which makes it a practical baseline classifier. \n",
    "\n",
    "The algorithm performs poorly under certain circumstances, however. First - it does not handle non-convex classes well. Secondly, when using Euclidean distance as the distance measure - the algorithm struggles when the classes have drastically different variances and/or skews. "
   ]
  },
  {
   "cell_type": "markdown",
   "metadata": {},
   "source": [
    "## 2. Extensions to classical algorithm\n",
    "\n",
    "#### 2.1 Mahalanobis and Skew distances\n",
    "\n",
    "When using Euclidean distance to a class centroid, the covariance in the data is ignored. Therefore, in the image below, points `1` and `2` are considered to be the same distance away from the origin.  \n",
    "\n",
    "![](images/euc_contour.png)\n",
    "\n",
    "However, in light of the rest of the data, it's clear that point `1` deviates from the origin more extremely than `2`, since point `2` falls in the cloud of the rest of the data. Ingoring the covariance in the data leads us to ignore this fact. \n",
    "\n",
    "Mahalanobis distance addresses this issue. According to Wikipedia, \"it is a multi-dimensional generalization of the idea of measuring how many standard deviations away [a point] is from the mean [of a set of vectors].\" Thus, the covariance in the data is accounted for. A countour plot of the Mahalanobis distance better reflects the general shape of the data, and captures the intuition of measuring how \"unusually far\" a point is from the mean more naturally. \n",
    "\n",
    "![](images/mah_contour.png)\n",
    "*Images courtesy of [Vincent Zoonekynd](http://zoonek2.free.fr/UNIX/48_R/06.html)*\n",
    "\n",
    "\n",
    "In this module, we extend Scikit-Learn's implementation of the Nearest Centroid algorithm by impementing the Mahalanobis distance for classification. We also implemented a novel distance metric - _skew distance_ - which takes into account the skew in principle components of a datset - as proposed by [Dr. Mark DeBonis](https://manhattan.edu/campus-directory/mark.debonis) in his paper [_\"Using Skew for Classification\"_](https://www.google.com/search?q=using+skew+for+classification&oq=using+skew+for+classification&aqs=chrome..69i57j69i60j69i61l2j35i39.3895j0j7&sourceid=chrome&ie=UTF-8)\n"
   ]
  },
  {
   "cell_type": "markdown",
   "metadata": {},
   "source": [
    "#### 2.2 Reframing one classification problem as another\n",
    "\n",
    "In the classical Nearest Centroid algorithm, the predicted class of a vector is the class whose centroid is closest to that vector.\n",
    "\n",
    "We generalize this decision criterion by reframing the original classification task as a seperate auxuilliary classification task. For a data matrix **X** of shape (n, m), and a response vector **y** with `k` unique classes, the classification task is transformed as follows:\n",
    "\n",
    "1. For each class _c_, compute the centroid of $X_c$, where $X_c \\equiv \\{X_i  \\text{ : }\\quad y_i = c\\}$\n",
    "2. For each training example $x \\in I\\!R^{m}$, construct a vector in $I\\!R^k$, $x'$, where the $j^{th}$ component of $x'$ is the distance between $x$ and the $j^{th}$ cluster centroid. Call the collection of these constructed vectors **X'**.  \n",
    "3. Now we have a design matrix **X'**, of dimension (n, k), and the same vector of labels, **y**. These matrices define the new classification task. \n",
    "\n",
    "This setup is a generalization of the classic decision criterion, and allows for the use of arbirary classification methods to be used to solve the constructed classification task (e.g. SVM, Logistic Regression, KNN, etc).\n",
    "\n",
    "This design choice was to help make this classifier generalizable to a wide variety of datasets, and allow it to learn more complex decision boundaries. \n",
    "\n",
    "---"
   ]
  },
  {
   "cell_type": "markdown",
   "metadata": {},
   "source": [
    "## 3. Case study - Ionosphere dataset\n",
    "\n",
    "To introduce the interface to the `CentroidClassifier` object and provide a point of reference to its performance, I will apply it to the `ionosphere` dataset from the UCL Machine Learning repository.\n"
   ]
  },
  {
   "cell_type": "markdown",
   "metadata": {},
   "source": [
    "#### 3.1 `iononsphere` dataset\n",
    "\n",
    "The `iononsphere` dataset consists of radar measurements from 16 antenae, and labels that indicate if the measurement is suitable for further analysis not. There are 351 instances and 34 features in the data. "
   ]
  },
  {
   "cell_type": "code",
   "execution_count": 12,
   "metadata": {
    "collapsed": false
   },
   "outputs": [
    {
     "data": {
      "text/html": [
       "<div>\n",
       "<table border=\"1\" class=\"dataframe\">\n",
       "  <thead>\n",
       "    <tr style=\"text-align: right;\">\n",
       "      <th></th>\n",
       "      <th>a01</th>\n",
       "      <th>a02</th>\n",
       "      <th>a03</th>\n",
       "      <th>a04</th>\n",
       "      <th>a05</th>\n",
       "      <th>a06</th>\n",
       "      <th>a07</th>\n",
       "      <th>a08</th>\n",
       "      <th>a09</th>\n",
       "      <th>a10</th>\n",
       "      <th>...</th>\n",
       "      <th>a26</th>\n",
       "      <th>a27</th>\n",
       "      <th>a28</th>\n",
       "      <th>a29</th>\n",
       "      <th>a30</th>\n",
       "      <th>a31</th>\n",
       "      <th>a32</th>\n",
       "      <th>a33</th>\n",
       "      <th>a34</th>\n",
       "      <th>class</th>\n",
       "    </tr>\n",
       "  </thead>\n",
       "  <tbody>\n",
       "    <tr>\n",
       "      <th>0</th>\n",
       "      <td>1</td>\n",
       "      <td>0</td>\n",
       "      <td>0.99539</td>\n",
       "      <td>-0.05889</td>\n",
       "      <td>0.85243</td>\n",
       "      <td>0.02306</td>\n",
       "      <td>0.83398</td>\n",
       "      <td>-0.37708</td>\n",
       "      <td>1.00000</td>\n",
       "      <td>0.03760</td>\n",
       "      <td>...</td>\n",
       "      <td>-0.51171</td>\n",
       "      <td>0.41078</td>\n",
       "      <td>-0.46168</td>\n",
       "      <td>0.21266</td>\n",
       "      <td>-0.34090</td>\n",
       "      <td>0.42267</td>\n",
       "      <td>-0.54487</td>\n",
       "      <td>0.18641</td>\n",
       "      <td>-0.45300</td>\n",
       "      <td>g</td>\n",
       "    </tr>\n",
       "    <tr>\n",
       "      <th>1</th>\n",
       "      <td>1</td>\n",
       "      <td>0</td>\n",
       "      <td>1.00000</td>\n",
       "      <td>-0.18829</td>\n",
       "      <td>0.93035</td>\n",
       "      <td>-0.36156</td>\n",
       "      <td>-0.10868</td>\n",
       "      <td>-0.93597</td>\n",
       "      <td>1.00000</td>\n",
       "      <td>-0.04549</td>\n",
       "      <td>...</td>\n",
       "      <td>-0.26569</td>\n",
       "      <td>-0.20468</td>\n",
       "      <td>-0.18401</td>\n",
       "      <td>-0.19040</td>\n",
       "      <td>-0.11593</td>\n",
       "      <td>-0.16626</td>\n",
       "      <td>-0.06288</td>\n",
       "      <td>-0.13738</td>\n",
       "      <td>-0.02447</td>\n",
       "      <td>b</td>\n",
       "    </tr>\n",
       "    <tr>\n",
       "      <th>2</th>\n",
       "      <td>1</td>\n",
       "      <td>0</td>\n",
       "      <td>1.00000</td>\n",
       "      <td>-0.03365</td>\n",
       "      <td>1.00000</td>\n",
       "      <td>0.00485</td>\n",
       "      <td>1.00000</td>\n",
       "      <td>-0.12062</td>\n",
       "      <td>0.88965</td>\n",
       "      <td>0.01198</td>\n",
       "      <td>...</td>\n",
       "      <td>-0.40220</td>\n",
       "      <td>0.58984</td>\n",
       "      <td>-0.22145</td>\n",
       "      <td>0.43100</td>\n",
       "      <td>-0.17365</td>\n",
       "      <td>0.60436</td>\n",
       "      <td>-0.24180</td>\n",
       "      <td>0.56045</td>\n",
       "      <td>-0.38238</td>\n",
       "      <td>g</td>\n",
       "    </tr>\n",
       "    <tr>\n",
       "      <th>3</th>\n",
       "      <td>1</td>\n",
       "      <td>0</td>\n",
       "      <td>1.00000</td>\n",
       "      <td>-0.45161</td>\n",
       "      <td>1.00000</td>\n",
       "      <td>1.00000</td>\n",
       "      <td>0.71216</td>\n",
       "      <td>-1.00000</td>\n",
       "      <td>0.00000</td>\n",
       "      <td>0.00000</td>\n",
       "      <td>...</td>\n",
       "      <td>0.90695</td>\n",
       "      <td>0.51613</td>\n",
       "      <td>1.00000</td>\n",
       "      <td>1.00000</td>\n",
       "      <td>-0.20099</td>\n",
       "      <td>0.25682</td>\n",
       "      <td>1.00000</td>\n",
       "      <td>-0.32382</td>\n",
       "      <td>1.00000</td>\n",
       "      <td>b</td>\n",
       "    </tr>\n",
       "    <tr>\n",
       "      <th>4</th>\n",
       "      <td>1</td>\n",
       "      <td>0</td>\n",
       "      <td>1.00000</td>\n",
       "      <td>-0.02401</td>\n",
       "      <td>0.94140</td>\n",
       "      <td>0.06531</td>\n",
       "      <td>0.92106</td>\n",
       "      <td>-0.23255</td>\n",
       "      <td>0.77152</td>\n",
       "      <td>-0.16399</td>\n",
       "      <td>...</td>\n",
       "      <td>-0.65158</td>\n",
       "      <td>0.13290</td>\n",
       "      <td>-0.53206</td>\n",
       "      <td>0.02431</td>\n",
       "      <td>-0.62197</td>\n",
       "      <td>-0.05707</td>\n",
       "      <td>-0.59573</td>\n",
       "      <td>-0.04608</td>\n",
       "      <td>-0.65697</td>\n",
       "      <td>g</td>\n",
       "    </tr>\n",
       "  </tbody>\n",
       "</table>\n",
       "<p>5 rows × 35 columns</p>\n",
       "</div>"
      ],
      "text/plain": [
       "   a01  a02      a03      a04      a05      a06      a07      a08      a09  \\\n",
       "0    1    0  0.99539 -0.05889  0.85243  0.02306  0.83398 -0.37708  1.00000   \n",
       "1    1    0  1.00000 -0.18829  0.93035 -0.36156 -0.10868 -0.93597  1.00000   \n",
       "2    1    0  1.00000 -0.03365  1.00000  0.00485  1.00000 -0.12062  0.88965   \n",
       "3    1    0  1.00000 -0.45161  1.00000  1.00000  0.71216 -1.00000  0.00000   \n",
       "4    1    0  1.00000 -0.02401  0.94140  0.06531  0.92106 -0.23255  0.77152   \n",
       "\n",
       "       a10  ...        a26      a27      a28      a29      a30      a31  \\\n",
       "0  0.03760  ...   -0.51171  0.41078 -0.46168  0.21266 -0.34090  0.42267   \n",
       "1 -0.04549  ...   -0.26569 -0.20468 -0.18401 -0.19040 -0.11593 -0.16626   \n",
       "2  0.01198  ...   -0.40220  0.58984 -0.22145  0.43100 -0.17365  0.60436   \n",
       "3  0.00000  ...    0.90695  0.51613  1.00000  1.00000 -0.20099  0.25682   \n",
       "4 -0.16399  ...   -0.65158  0.13290 -0.53206  0.02431 -0.62197 -0.05707   \n",
       "\n",
       "       a32      a33      a34  class  \n",
       "0 -0.54487  0.18641 -0.45300      g  \n",
       "1 -0.06288 -0.13738 -0.02447      b  \n",
       "2 -0.24180  0.56045 -0.38238      g  \n",
       "3  1.00000 -0.32382  1.00000      b  \n",
       "4 -0.59573 -0.04608 -0.65697      g  \n",
       "\n",
       "[5 rows x 35 columns]"
      ]
     },
     "execution_count": 12,
     "metadata": {},
     "output_type": "execute_result"
    }
   ],
   "source": [
    "ion = pd.read_csv(\"datasets/ionosphere.csv\")\n",
    "ion.head()"
   ]
  },
  {
   "cell_type": "markdown",
   "metadata": {},
   "source": [
    "A natural classification task is to predict if a measurement is good or bad. \n",
    "\n",
    "Here I split up the data into training and test splits, for experimentation. "
   ]
  },
  {
   "cell_type": "code",
   "execution_count": 13,
   "metadata": {
    "collapsed": false
   },
   "outputs": [],
   "source": [
    "# isolate design matrix and response vector\n",
    "X = ion.iloc[:,:-1]\n",
    "y = ion.iloc[:,-1]\n",
    "\n",
    "# Make training and test splits for experimentation\n",
    "X_train, X_test, y_train, y_test = train_test_split(X, y, test_size=0.2, random_state=1)"
   ]
  },
  {
   "cell_type": "code",
   "execution_count": 14,
   "metadata": {
    "collapsed": false
   },
   "outputs": [
    {
     "name": "stdout",
     "output_type": "stream",
     "text": [
      "(351, 34) (351,)\n",
      "(280, 34) (280,)\n",
      "(71, 34) (71,)\n"
     ]
    }
   ],
   "source": [
    "# sanity check - do dimensions make sense? \n",
    "print X.shape, y.shape\n",
    "print X_train.shape, y_train.shape\n",
    "print X_test.shape, y_test.shape"
   ]
  },
  {
   "cell_type": "markdown",
   "metadata": {},
   "source": [
    "#### 3.2 Basic functionality of `CentroidClassifier` class\n",
    "\n",
    "The `CentroidClassifier` adopts the same interface as any `sklearn` classifier. As such, it has `fit()` and `predict()` static methods. "
   ]
  },
  {
   "cell_type": "code",
   "execution_count": 15,
   "metadata": {
    "collapsed": true
   },
   "outputs": [],
   "source": [
    "# Initialize a nearest-centroid classifier\n",
    "clf = CentroidClassifier()"
   ]
  },
  {
   "cell_type": "markdown",
   "metadata": {},
   "source": [
    "By default, the distance used for classification is Mahalanbois distance. One can also pass the optional parameter `distance` to one of:\n",
    "\n",
    "- `mahalanobis`\n",
    "- `skew`\n",
    "- `euclidean`\n",
    "- `chebyshev`\n",
    "- `manhattan`\n"
   ]
  },
  {
   "cell_type": "code",
   "execution_count": 16,
   "metadata": {
    "collapsed": false
   },
   "outputs": [
    {
     "data": {
      "text/plain": [
       "CentroidClassifier(classifier=None, distance=None)"
      ]
     },
     "execution_count": 16,
     "metadata": {},
     "output_type": "execute_result"
    }
   ],
   "source": [
    "# Fit the classifier on the training data\n",
    "clf.fit(X_train, y_train)"
   ]
  },
  {
   "cell_type": "markdown",
   "metadata": {},
   "source": [
    "For binary classification tasks, one can also plot the decision boundary fit using the `plot_boundary()` static method:\n"
   ]
  },
  {
   "cell_type": "code",
   "execution_count": 17,
   "metadata": {
    "collapsed": false
   },
   "outputs": [
    {
     "data": {
      "image/png": "[encoded data removed]",
      "text/plain": [
       "<matplotlib.figure.Figure at 0x10d143d10>"
      ]
     },
     "metadata": {},
     "output_type": "display_data"
    }
   ],
   "source": [
    "clf.plot_boundary(X_train, y_train)"
   ]
  },
  {
   "cell_type": "markdown",
   "metadata": {},
   "source": [
    "Comparing this decision boundary to the one learned when using Euclidean distance, one can already see that Mahalanobis distance is a more effective metric:"
   ]
  },
  {
   "cell_type": "code",
   "execution_count": 18,
   "metadata": {
    "collapsed": false
   },
   "outputs": [
    {
     "data": {
      "image/png": "[encoded data removed]",
      "text/plain": [
       "<matplotlib.figure.Figure at 0x10d0ba750>"
      ]
     },
     "metadata": {},
     "output_type": "display_data"
    }
   ],
   "source": [
    "# A classifier that uses Euclidean distance instead of Mahalanobis:\n",
    "clf_euc = CentroidClassifier(distance=\"euclidean\")\n",
    "\n",
    "# Fit the model\n",
    "clf_euc.fit(X_train, y_train)\n",
    "\n",
    "# plot decision boundary\n",
    "clf_euc.plot_boundary(X_train, y_train)"
   ]
  }
 ],
 "metadata": {
  "kernelspec": {
   "display_name": "Python 2",
   "language": "python",
   "name": "python2"
  },
  "language_info": {
   "codemirror_mode": {
    "name": "ipython",
    "version": 2
   },
   "file_extension": ".py",
   "mimetype": "text/x-python",
   "name": "python",
   "nbconvert_exporter": "python",
   "pygments_lexer": "ipython2",
   "version": "2.7.9"
  }
 },
 "nbformat": 4,
 "nbformat_minor": 2
}
